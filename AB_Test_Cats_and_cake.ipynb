{
  "nbformat": 4,
  "nbformat_minor": 0,
  "metadata": {
    "colab": {
      "name": "AB-Test-Cats-and-cake",
      "provenance": []
    },
    "kernelspec": {
      "name": "python3",
      "display_name": "Python 3"
    },
    "language_info": {
      "name": "python"
    }
  },
  "cells": [
    {
      "cell_type": "markdown",
      "metadata": {
        "id": "91c02wn18lHP"
      },
      "source": [
        "**О котах и печеньках**\n",
        "\n",
        "\n",
        "В этой тетрадке мы попробуем несколькими разными способами обсчитать результаты АБ-теста. Тетрадка делалась на основе набора данных из курса: https://learn.datacamp.com/projects/184"
      ]
    },
    {
      "cell_type": "code",
      "metadata": {
        "id": "9MVl6JES8EnM"
      },
      "source": [
        "import numpy as np\n",
        "import pandas as pd\n",
        "import seaborn as sns\n",
        "import matplotlib.pyplot as plt\n",
        "from scipy import stats\n",
        "\n",
        "from tqdm import tqdm as tqdm_botebook\n",
        "\n",
        "plt.style.use('ggplot')\n",
        "%matplotlib inline\n"
      ],
      "execution_count": null,
      "outputs": []
    },
    {
      "cell_type": "markdown",
      "metadata": {
        "id": "VE7bWdx78tig"
      },
      "source": [
        "**1. О котах и печеньках**\n",
        "\n",
        "\n",
        "В этой тетрадке мы посмотрим на данные одной мобильной игры под названием \"Cookie Cats\", разработанной компанией Tactile Entertainment. Это стандартный match-three пазл, где игрокам нужно соединять элементы одинаковых цветов, чтобы очистить поле и выиграть на уровне. И еще там есть поющие коты. Это важно.\n",
        "\n",
        "\n",
        "По мере того, как игроки проходят уровни, они встречают ворота-блокеры, которые вынуждают их либо ждать длительное время, либо совершить внутриигровую покупку, чтобы продолжить играть. Помимо того, что эти ворота приносят разработчикам деньги от покупок, они еще и вынуждают игроков делать перерыв, в надежде на то, что те вернутся с новыми силами и снова начнут получать удовольствие от котиков.\n",
        "\n",
        "\n",
        "Но возникает вопрос - когда и где ставить эти ворота? Изначально первые ворота стояли на 30-м уровне игры, однако в этом ноутбуке мы будем анализировать АБ-тест, в котором разработчики передвинули ворота на 40-й уровень. В частности мы будем смотреть влияние этого изменения на такой важный показатель как \"retention\" или удержание игроков, который расчитывается как отношение уникальных игроков, зашедших в игру на 1-й, 2-й, ... N-й день после установки ко всем игрокам, установившим приложение в этот день."
      ]
    },
    {
      "cell_type": "code",
      "metadata": {
        "colab": {
          "base_uri": "https://localhost:8080/"
        },
        "id": "ESjsOYrr9H6Q",
        "outputId": "e83184d3-b336-49b3-d376-03bbe7a5ee4b"
      },
      "source": [
        "from google.colab import drive\n",
        "drive.mount('/content/drive/')"
      ],
      "execution_count": null,
      "outputs": [
        {
          "output_type": "stream",
          "text": [
            "Drive already mounted at /content/drive/; to attempt to forcibly remount, call drive.mount(\"/content/drive/\", force_remount=True).\n"
          ],
          "name": "stdout"
        }
      ]
    },
    {
      "cell_type": "code",
      "metadata": {
        "colab": {
          "base_uri": "https://localhost:8080/",
          "height": 221
        },
        "id": "cCOuCHpL83ri",
        "outputId": "1f590efa-1bfc-4514-9835-de8d9ea8be40"
      },
      "source": [
        "df = pd.read_csv('/content/drive/MyDrive/ColabNotebooks/data/cookie_cats.csv')\n",
        "print(df.shape)\n",
        "df.head()"
      ],
      "execution_count": null,
      "outputs": [
        {
          "output_type": "stream",
          "text": [
            "(90189, 5)\n"
          ],
          "name": "stdout"
        },
        {
          "output_type": "execute_result",
          "data": {
            "text/html": [
              "<div>\n",
              "<style scoped>\n",
              "    .dataframe tbody tr th:only-of-type {\n",
              "        vertical-align: middle;\n",
              "    }\n",
              "\n",
              "    .dataframe tbody tr th {\n",
              "        vertical-align: top;\n",
              "    }\n",
              "\n",
              "    .dataframe thead th {\n",
              "        text-align: right;\n",
              "    }\n",
              "</style>\n",
              "<table border=\"1\" class=\"dataframe\">\n",
              "  <thead>\n",
              "    <tr style=\"text-align: right;\">\n",
              "      <th></th>\n",
              "      <th>userid</th>\n",
              "      <th>version</th>\n",
              "      <th>sum_gamerounds</th>\n",
              "      <th>retention_1</th>\n",
              "      <th>retention_7</th>\n",
              "    </tr>\n",
              "  </thead>\n",
              "  <tbody>\n",
              "    <tr>\n",
              "      <th>0</th>\n",
              "      <td>116</td>\n",
              "      <td>gate_30</td>\n",
              "      <td>3</td>\n",
              "      <td>False</td>\n",
              "      <td>False</td>\n",
              "    </tr>\n",
              "    <tr>\n",
              "      <th>1</th>\n",
              "      <td>337</td>\n",
              "      <td>gate_30</td>\n",
              "      <td>38</td>\n",
              "      <td>True</td>\n",
              "      <td>False</td>\n",
              "    </tr>\n",
              "    <tr>\n",
              "      <th>2</th>\n",
              "      <td>377</td>\n",
              "      <td>gate_40</td>\n",
              "      <td>165</td>\n",
              "      <td>True</td>\n",
              "      <td>False</td>\n",
              "    </tr>\n",
              "    <tr>\n",
              "      <th>3</th>\n",
              "      <td>483</td>\n",
              "      <td>gate_40</td>\n",
              "      <td>1</td>\n",
              "      <td>False</td>\n",
              "      <td>False</td>\n",
              "    </tr>\n",
              "    <tr>\n",
              "      <th>4</th>\n",
              "      <td>488</td>\n",
              "      <td>gate_40</td>\n",
              "      <td>179</td>\n",
              "      <td>True</td>\n",
              "      <td>True</td>\n",
              "    </tr>\n",
              "  </tbody>\n",
              "</table>\n",
              "</div>"
            ],
            "text/plain": [
              "   userid  version  sum_gamerounds  retention_1  retention_7\n",
              "0     116  gate_30               3        False        False\n",
              "1     337  gate_30              38         True        False\n",
              "2     377  gate_40             165         True        False\n",
              "3     483  gate_40               1        False        False\n",
              "4     488  gate_40             179         True         True"
            ]
          },
          "metadata": {
            "tags": []
          },
          "execution_count": 59
        }
      ]
    },
    {
      "cell_type": "markdown",
      "metadata": {
        "id": "PB70OXeC91fI"
      },
      "source": [
        "**Описание колонок:**\n",
        "\n",
        "*   userid - уникальный номер, идентифицирующий каждого игрока.\n",
        "*   version - был ли пользователь отнесен к контрольной группе (gate_30 - ворота на 30-м уровне) или к тестовой (gate_40 - ворота на 40-м уровне).\n",
        "*   sum_gamerounds - число сессий, сыгранных игроком в течение первых 14 дней после установки игры.\n",
        "*   retention_1 - вернулся ли игрок после первого дня с момента установки?\n",
        "*   retention_7 - вернулся ли игрок после седьмого дня с момента установки?\n",
        "\n",
        "\n",
        "Когда игрок устанавливает игру, он/она случайным образом относятся либо к группе gate_30, либо gate_40. На всякий случай, давайте проверим, действительно ли их примерно поровну в каждой из группу."
      ]
    },
    {
      "cell_type": "code",
      "metadata": {
        "colab": {
          "base_uri": "https://localhost:8080/"
        },
        "id": "NSxPS1MeAVKj",
        "outputId": "7a073ea5-0be0-44c2-fadf-de2532493849"
      },
      "source": [
        "df.groupby('version')['userid'].count()"
      ],
      "execution_count": null,
      "outputs": [
        {
          "output_type": "execute_result",
          "data": {
            "text/plain": [
              "version\n",
              "gate_30    44700\n",
              "gate_40    45489\n",
              "Name: userid, dtype: int64"
            ]
          },
          "metadata": {
            "tags": []
          },
          "execution_count": 60
        }
      ]
    },
    {
      "cell_type": "markdown",
      "metadata": {
        "id": "o0CkTdxuAlbq"
      },
      "source": [
        "## 2. Распределение числа игровых сессий\n",
        "\n",
        "\n",
        "Похоже, что игроков действительно примерно поровну в каждой из групп, отлично!\n",
        "\n",
        "Фокус нашего анализа будет сосредоточен на удержании игроков (retention), но ради интереса давайте построим распределение числа игровых сессий, сыгранных игроками в течение их первой недели жизни в игре."
      ]
    },
    {
      "cell_type": "code",
      "metadata": {
        "id": "sx8grdOpAV5p"
      },
      "source": [
        "# Считаем число игроков, оставшееся в игре для каждого раунда\n",
        "plot_df = df.groupby('sum_gamerounds')['userid'].count()"
      ],
      "execution_count": null,
      "outputs": []
    },
    {
      "cell_type": "code",
      "metadata": {
        "colab": {
          "base_uri": "https://localhost:8080/"
        },
        "id": "GjbyaGGGBWQB",
        "outputId": "2e427cb0-985b-453e-a929-ec8c146e2930"
      },
      "source": [
        "plot_df.head(20)\n"
      ],
      "execution_count": null,
      "outputs": [
        {
          "output_type": "execute_result",
          "data": {
            "text/plain": [
              "sum_gamerounds\n",
              "0     3994\n",
              "1     5538\n",
              "2     4606\n",
              "3     3958\n",
              "4     3629\n",
              "5     2992\n",
              "6     2861\n",
              "7     2379\n",
              "8     2267\n",
              "9     2013\n",
              "10    1752\n",
              "11    1654\n",
              "12    1570\n",
              "13    1594\n",
              "14    1519\n",
              "15    1446\n",
              "16    1342\n",
              "17    1269\n",
              "18    1228\n",
              "19    1158\n",
              "Name: userid, dtype: int64"
            ]
          },
          "metadata": {
            "tags": []
          },
          "execution_count": 62
        }
      ]
    },
    {
      "cell_type": "code",
      "metadata": {
        "colab": {
          "base_uri": "https://localhost:8080/",
          "height": 282
        },
        "id": "uwcr7yNoBBI0",
        "outputId": "b8196864-9a19-4078-b145-f2be51d9ed08"
      },
      "source": [
        "ax = plot_df.head(100).plot()\n",
        "ax.set_xlabel(\"Число сыгранных раундов\")\n",
        "ax.set_ylabel(\"Число игроков\");"
      ],
      "execution_count": null,
      "outputs": [
        {
          "output_type": "display_data",
          "data": {
            "image/png": "[encoded data removed]",
            "text/plain": [
              "<Figure size 432x288 with 1 Axes>"
            ]
          },
          "metadata": {
            "tags": [],
            "needs_background": "light"
          }
        }
      ]
    },
    {
      "cell_type": "markdown",
      "metadata": {
        "id": "Jg1D3AOTCZLe"
      },
      "source": [
        "На графике вверху мы видим, что некоторые игроки установили игру, но даже ни разу не поиграли (0 сессий), многие игроки закончили лишь пару сессий за первую неделю, а некоторые действительно подсели и сыграли более 80 раз!\n",
        "\n",
        "\n",
        "Конечно, мы хотим, чтобы игроки были заинтересованы в игре и возвращались в неё снова и снова. Обычная метрика, использующаяся в игровой индустрии, чтобы измерить, насколько игра веселая и захватывающая, - это удержание первого дня (1-day retention): Процент игроков, которые вренулись и снова стали играть спустя 1 день после установки. Чем выше удержание первого дня, тем проще и дальше удерживать пользователей и строить себе большую базу фанатов."
      ]
    },
    {
      "cell_type": "markdown",
      "metadata": {
        "id": "zvxV9ekbCca1"
      },
      "source": [
        "## 3. Удержание первого дня (1-day retention)\n",
        "\n",
        "\n",
        "Посмотрим как выглядит удержание 1 дня."
      ]
    },
    {
      "cell_type": "code",
      "metadata": {
        "colab": {
          "base_uri": "https://localhost:8080/"
        },
        "id": "jSU0AVssCk4Z",
        "outputId": "1ccb7ebf-0135-46b6-c6c7-a756ff238f44"
      },
      "source": [
        "df.retention_1.mean()"
      ],
      "execution_count": null,
      "outputs": [
        {
          "output_type": "execute_result",
          "data": {
            "text/plain": [
              "0.4452095044850259"
            ]
          },
          "metadata": {
            "tags": []
          },
          "execution_count": 64
        }
      ]
    },
    {
      "cell_type": "markdown",
      "metadata": {
        "id": "lkJEwll-CvDn"
      },
      "source": [
        "А теперь по группам."
      ]
    },
    {
      "cell_type": "code",
      "metadata": {
        "colab": {
          "base_uri": "https://localhost:8080/"
        },
        "id": "BbvKM4lfCwA1",
        "outputId": "38ff1fac-2b52-4a56-f22a-4504ccf3175b"
      },
      "source": [
        "df.groupby('version').retention_1.mean()"
      ],
      "execution_count": null,
      "outputs": [
        {
          "output_type": "execute_result",
          "data": {
            "text/plain": [
              "version\n",
              "gate_30    0.448188\n",
              "gate_40    0.442283\n",
              "Name: retention_1, dtype: float64"
            ]
          },
          "metadata": {
            "tags": []
          },
          "execution_count": 65
        }
      ]
    },
    {
      "cell_type": "markdown",
      "metadata": {
        "id": "lKz5XkTTC17L"
      },
      "source": [
        "Похоже, что у нас есть небольшое ухудшение в удержании первого дня, если мы двигаем ворота к сороковому уровню (44.2%) в сравнеии с контрольной группой, где ворота остались на 30-м уровне (44.8%). Разница, конечно, невелика, но даже маленькие изменения в удержании могут иметь значительные последствия. Давайте проверим значимость этого эффекта. Будем использовать тест о равенстве долей.\n",
        "\n",
        "\n",
        "H0:p40=p30\n",
        "\n",
        "H1:p40<p30\n",
        " \n",
        "\n",
        "Предпосылки: нет выбросов, много наблюдений. Наблюдения независимы. Тогда сможем использовать ЦПТ."
      ]
    },
    {
      "cell_type": "code",
      "metadata": {
        "id": "YoMEXNGiDOj7"
      },
      "source": [
        "from statsmodels.stats.proportion import proportions_ztest"
      ],
      "execution_count": null,
      "outputs": []
    },
    {
      "cell_type": "code",
      "metadata": {
        "colab": {
          "base_uri": "https://localhost:8080/",
          "height": 142
        },
        "id": "lDYZmCGdC5iX",
        "outputId": "b14e9cb6-f6bd-4c9a-bfe6-5590003208c0"
      },
      "source": [
        "alpha = 0.05                    # уровень значимости = 5%\n",
        "\n",
        "df_agg = df.groupby('version').retention_1.agg(['sum', 'count', 'mean'])\n",
        "df_agg"
      ],
      "execution_count": null,
      "outputs": [
        {
          "output_type": "execute_result",
          "data": {
            "text/html": [
              "<div>\n",
              "<style scoped>\n",
              "    .dataframe tbody tr th:only-of-type {\n",
              "        vertical-align: middle;\n",
              "    }\n",
              "\n",
              "    .dataframe tbody tr th {\n",
              "        vertical-align: top;\n",
              "    }\n",
              "\n",
              "    .dataframe thead th {\n",
              "        text-align: right;\n",
              "    }\n",
              "</style>\n",
              "<table border=\"1\" class=\"dataframe\">\n",
              "  <thead>\n",
              "    <tr style=\"text-align: right;\">\n",
              "      <th></th>\n",
              "      <th>sum</th>\n",
              "      <th>count</th>\n",
              "      <th>mean</th>\n",
              "    </tr>\n",
              "    <tr>\n",
              "      <th>version</th>\n",
              "      <th></th>\n",
              "      <th></th>\n",
              "      <th></th>\n",
              "    </tr>\n",
              "  </thead>\n",
              "  <tbody>\n",
              "    <tr>\n",
              "      <th>gate_30</th>\n",
              "      <td>20034</td>\n",
              "      <td>44700</td>\n",
              "      <td>0.448188</td>\n",
              "    </tr>\n",
              "    <tr>\n",
              "      <th>gate_40</th>\n",
              "      <td>20119</td>\n",
              "      <td>45489</td>\n",
              "      <td>0.442283</td>\n",
              "    </tr>\n",
              "  </tbody>\n",
              "</table>\n",
              "</div>"
            ],
            "text/plain": [
              "           sum  count      mean\n",
              "version                        \n",
              "gate_30  20034  44700  0.448188\n",
              "gate_40  20119  45489  0.442283"
            ]
          },
          "metadata": {
            "tags": []
          },
          "execution_count": 67
        }
      ]
    },
    {
      "cell_type": "code",
      "metadata": {
        "colab": {
          "base_uri": "https://localhost:8080/"
        },
        "id": "SlBEr48eDZX4",
        "outputId": "d1df173e-0c77-4017-d249-29a3171171c0"
      },
      "source": [
        "n_obs = df_agg['count'].values  # размеры выборок\n",
        "n_obs"
      ],
      "execution_count": null,
      "outputs": [
        {
          "output_type": "execute_result",
          "data": {
            "text/plain": [
              "array([44700, 45489])"
            ]
          },
          "metadata": {
            "tags": []
          },
          "execution_count": 68
        }
      ]
    },
    {
      "cell_type": "code",
      "metadata": {
        "colab": {
          "base_uri": "https://localhost:8080/"
        },
        "id": "NA3y8D_CDoce",
        "outputId": "584841ca-458e-4302-963f-dfd89b1e1ad7"
      },
      "source": [
        "m_obs = df_agg['sum'].values    # число успехов\n",
        "p_obs = df_agg['mean'].values   # доли\n",
        "\n",
        "z_obs, p_val =  proportions_ztest(m_obs, \n",
        "                                  n_obs, \n",
        "                                  value=0, \n",
        "                                  alternative='larger')\n",
        "\n",
        "print(f\"Наблюдаемое значение статистики: {z_obs:.3}\") \n",
        "print(f\"P-значение: {p_val:.3}\") "
      ],
      "execution_count": null,
      "outputs": [
        {
          "output_type": "stream",
          "text": [
            "Наблюдаемое значение статистики: 1.78\n",
            "P-значение: 0.0372\n"
          ],
          "name": "stdout"
        }
      ]
    },
    {
      "cell_type": "markdown",
      "metadata": {
        "id": "g_iOywnOD1FA"
      },
      "source": [
        "Гипотеза о равенсве долей **отвергается** на  5%  уровне значимости. Посмотрим на оценку мощности этого эксперимента.\n"
      ]
    },
    {
      "cell_type": "code",
      "metadata": {
        "colab": {
          "base_uri": "https://localhost:8080/"
        },
        "id": "WlPp5Uy_D6TA",
        "outputId": "f8a86431-8252-46da-807c-b6c0048106e0"
      },
      "source": [
        "n_30, n_40 = n_obs  # размеры выборок\n",
        "p_30, p_40 = p_obs  # доли \n",
        "\n",
        "# дисперсии\n",
        "var_40, var_30 = p_40 * (1 - p_40), p_30 * (1 - p_30)\n",
        "\n",
        "# стандартизированный размер эффекта\n",
        "effect = (p_30 - p_40) / ((n_40* np.sqrt(var_40) + n_30 * np.sqrt(var_30)) / (n_40 + n_30))\n",
        "effect"
      ],
      "execution_count": null,
      "outputs": [
        {
          "output_type": "execute_result",
          "data": {
            "text/plain": [
              "0.01188210610259806"
            ]
          },
          "metadata": {
            "tags": []
          },
          "execution_count": 70
        }
      ]
    },
    {
      "cell_type": "code",
      "metadata": {
        "colab": {
          "base_uri": "https://localhost:8080/"
        },
        "id": "wChYTgCqEGJG",
        "outputId": "42ba4d2f-3c0c-4d06-ca3f-c776bab06ae5"
      },
      "source": [
        "n_obs[1]/n_obs[0]"
      ],
      "execution_count": null,
      "outputs": [
        {
          "output_type": "execute_result",
          "data": {
            "text/plain": [
              "1.0176510067114093"
            ]
          },
          "metadata": {
            "tags": []
          },
          "execution_count": 71
        }
      ]
    },
    {
      "cell_type": "code",
      "metadata": {
        "id": "OOZCBywAEJYc"
      },
      "source": [
        "from statsmodels.stats.power import zt_ind_solve_power"
      ],
      "execution_count": null,
      "outputs": []
    },
    {
      "cell_type": "code",
      "metadata": {
        "colab": {
          "base_uri": "https://localhost:8080/"
        },
        "id": "-b5zK24DELMv",
        "outputId": "69106770-73b2-41b6-898e-3cdb31e7e1fc"
      },
      "source": [
        "zt_ind_solve_power(effect_size=effect, \n",
        "                   nobs1=sum(n_obs), \n",
        "                   alpha=0.05, \n",
        "                   power=None, \n",
        "                   ratio=n_obs[1]/n_obs[0],\n",
        "                   alternative='larger')"
      ],
      "execution_count": null,
      "outputs": [
        {
          "output_type": "execute_result",
          "data": {
            "text/plain": [
              "0.8131005106557109"
            ]
          },
          "metadata": {
            "tags": []
          },
          "execution_count": 73
        }
      ]
    },
    {
      "cell_type": "markdown",
      "metadata": {
        "id": "puT1YPHrEaqi"
      },
      "source": [
        "## 4. Удержание седьмого дня (7-day retention)\n",
        "\n",
        "\n",
        "Cпустя неделю после установки, уже больше игроков пройдут 40 уровней, поэтому имеет смысл посмотреть на удержание седьмого дня. Т.е., какой процент людей, установивших игру, снова показался в игре через 7 дней."
      ]
    },
    {
      "cell_type": "code",
      "metadata": {
        "colab": {
          "base_uri": "https://localhost:8080/"
        },
        "id": "NeTk_s2bEd9N",
        "outputId": "4e39a404-a27c-471d-aea6-77164c506149"
      },
      "source": [
        "df.groupby('version').retention_7.mean()"
      ],
      "execution_count": null,
      "outputs": [
        {
          "output_type": "execute_result",
          "data": {
            "text/plain": [
              "version\n",
              "gate_30    0.190201\n",
              "gate_40    0.182000\n",
              "Name: retention_7, dtype: float64"
            ]
          },
          "metadata": {
            "tags": []
          },
          "execution_count": 74
        }
      ]
    },
    {
      "cell_type": "markdown",
      "metadata": {
        "id": "U6bLqPuGEj5t"
      },
      "source": [
        "Как и с 1-day retention, мы видим, что 7-day retention немного ниже (18.2%), когда ворота находятся на 40-м уровне, чем на 30-м (19.0%). Эта разница также выше, чем для удержания первого дня, скорее всего из-за того, что игроки имели больше времени на то, чтобы столкнуться с первыми воротами. Мы также видим, что удержание 7-го дня в целом ниже, чем удержание 1-го - спустя неделю намного меньше людей всё ещё заходит в игру. По-прежнему возикает вопрос: а значима ли эта разница."
      ]
    },
    {
      "cell_type": "code",
      "metadata": {
        "id": "_FgQlYHhEqFz"
      },
      "source": [
        "from statsmodels.stats.proportion import proportions_ztest"
      ],
      "execution_count": null,
      "outputs": []
    },
    {
      "cell_type": "code",
      "metadata": {
        "colab": {
          "base_uri": "https://localhost:8080/"
        },
        "id": "ymNCSDVzElOa",
        "outputId": "f2a38e90-fcff-4db2-a9f6-cf20dd84ac4e"
      },
      "source": [
        "alpha = 0.05                    # уровень значимости = 5%\n",
        "\n",
        "df_agg = df.groupby('version').retention_7.agg(['sum', 'count', 'mean'])\n",
        "\n",
        "n_obs = df_agg['count'].values  # размеры выборок\n",
        "m_obs = df_agg['sum'].values    # число успехов\n",
        "p_obs = df_agg['mean'].values   # доли\n",
        "\n",
        "z_obs, p_val =  proportions_ztest(m_obs, n_obs, value=0, alternative='larger')\n",
        "\n",
        "print(f\"Наблюдаемое значение статистики: {z_obs:.3}\") \n",
        "print(f\"P-значение: {p_val:.3}\") "
      ],
      "execution_count": null,
      "outputs": [
        {
          "output_type": "stream",
          "text": [
            "Наблюдаемое значение статистики: 3.16\n",
            "P-значение: 0.000777\n"
          ],
          "name": "stdout"
        }
      ]
    },
    {
      "cell_type": "markdown",
      "metadata": {
        "id": "HbXjPlP6EwmY"
      },
      "source": [
        "Видим, что разница сильно значима. Для 7-дневного удержания произойдёт довольно мощный обвал."
      ]
    },
    {
      "cell_type": "markdown",
      "metadata": {
        "id": "k-8B2L6kE4Ij"
      },
      "source": [
        "## 5. Предварительные выводы\n",
        "\n",
        "\n",
        "Итак, результаты АБ-теста говорят нам о том, что есть значительное доказательство превышения 7-day retention в группе с воротами на 30-м уровне над группой с воротами на 40-м. Значит, если мы хотим поддерживать удержание клиентов на высоком уровне и иметь большее число игроков, нам не нужно сдвигать ворота с 30-го на 40-й уровень.\n",
        "\n",
        "Так почему же удержание выше, когда ворота расположены раньше? Логично было бы ожидать обратной ситуации - чем позже ставится препятствие, тем дольше игроки будут взаимодействовать с игрой. Однако это не то, что мы видим в данных. Теория гедонистической адаптации может помочь с объяснением. Если вкратце, гедонистическая адаптация - это тенденция получать всё меньше и меньше удовольствия от деятельности, если она продолжается длительное время. Заставляя игроков сделать паузу, когда они достигают 30-го уровня, мы продлеваем им удовольствие от игры, в результате чего они хотят в неё возвращаться. И напротив, сдвигая ворота к 40-му уровню мы даем игрокам возможность наиграться и просто заскучать.\n",
        "\n",
        "\n",
        "**Вопрос: что мы сделали неправильно?**\n",
        "\n",
        "**Ответ:** при проведении эксперимента и проверке гипотезы мы никак не учитываем, что часть игроков вообще могла не дойти до ворот. Такие люди не остались в игре по каким-то иным причинам, не связанным с воротами. Если бы у нас были данные, связанные с этим, нам нужно было бы отфильтровать пользователей, которые не дошли в первый день до 30-го уровня."
      ]
    },
    {
      "cell_type": "markdown",
      "metadata": {
        "id": "0pwTgAOYFHKS"
      },
      "source": [
        "## 6. Удержание первого дня с учетом исключения игроков, которые не были очень активны и не доходили до 30 дня.\n",
        "\n"
      ]
    },
    {
      "cell_type": "code",
      "metadata": {
        "id": "D_i9lLDtFeDH"
      },
      "source": [
        "df_b30 = df[df['sum_gamerounds']>=29]"
      ],
      "execution_count": null,
      "outputs": []
    },
    {
      "cell_type": "code",
      "metadata": {
        "colab": {
          "base_uri": "https://localhost:8080/",
          "height": 204
        },
        "id": "U9nyK83zF9Mr",
        "outputId": "5f688833-4b75-446a-aa46-ee2ea36bc4db"
      },
      "source": [
        "df_b30.head()"
      ],
      "execution_count": null,
      "outputs": [
        {
          "output_type": "execute_result",
          "data": {
            "text/html": [
              "<div>\n",
              "<style scoped>\n",
              "    .dataframe tbody tr th:only-of-type {\n",
              "        vertical-align: middle;\n",
              "    }\n",
              "\n",
              "    .dataframe tbody tr th {\n",
              "        vertical-align: top;\n",
              "    }\n",
              "\n",
              "    .dataframe thead th {\n",
              "        text-align: right;\n",
              "    }\n",
              "</style>\n",
              "<table border=\"1\" class=\"dataframe\">\n",
              "  <thead>\n",
              "    <tr style=\"text-align: right;\">\n",
              "      <th></th>\n",
              "      <th>userid</th>\n",
              "      <th>version</th>\n",
              "      <th>sum_gamerounds</th>\n",
              "      <th>retention_1</th>\n",
              "      <th>retention_7</th>\n",
              "    </tr>\n",
              "  </thead>\n",
              "  <tbody>\n",
              "    <tr>\n",
              "      <th>1</th>\n",
              "      <td>337</td>\n",
              "      <td>gate_30</td>\n",
              "      <td>38</td>\n",
              "      <td>True</td>\n",
              "      <td>False</td>\n",
              "    </tr>\n",
              "    <tr>\n",
              "      <th>2</th>\n",
              "      <td>377</td>\n",
              "      <td>gate_40</td>\n",
              "      <td>165</td>\n",
              "      <td>True</td>\n",
              "      <td>False</td>\n",
              "    </tr>\n",
              "    <tr>\n",
              "      <th>4</th>\n",
              "      <td>488</td>\n",
              "      <td>gate_40</td>\n",
              "      <td>179</td>\n",
              "      <td>True</td>\n",
              "      <td>True</td>\n",
              "    </tr>\n",
              "    <tr>\n",
              "      <th>5</th>\n",
              "      <td>540</td>\n",
              "      <td>gate_40</td>\n",
              "      <td>187</td>\n",
              "      <td>True</td>\n",
              "      <td>True</td>\n",
              "    </tr>\n",
              "    <tr>\n",
              "      <th>8</th>\n",
              "      <td>1574</td>\n",
              "      <td>gate_40</td>\n",
              "      <td>108</td>\n",
              "      <td>True</td>\n",
              "      <td>True</td>\n",
              "    </tr>\n",
              "  </tbody>\n",
              "</table>\n",
              "</div>"
            ],
            "text/plain": [
              "   userid  version  sum_gamerounds  retention_1  retention_7\n",
              "1     337  gate_30              38         True        False\n",
              "2     377  gate_40             165         True        False\n",
              "4     488  gate_40             179         True         True\n",
              "5     540  gate_40             187         True         True\n",
              "8    1574  gate_40             108         True         True"
            ]
          },
          "metadata": {
            "tags": []
          },
          "execution_count": 78
        }
      ]
    },
    {
      "cell_type": "code",
      "metadata": {
        "colab": {
          "base_uri": "https://localhost:8080/"
        },
        "id": "wR0H0eDpGefE",
        "outputId": "1814e041-5c5f-47be-bef7-50f0d0991c4f"
      },
      "source": [
        "# Посмотрим как выглядит удержание для первого дня\n",
        "\n",
        "df_b30.retention_1.mean()"
      ],
      "execution_count": null,
      "outputs": [
        {
          "output_type": "execute_result",
          "data": {
            "text/plain": [
              "0.79815241130984"
            ]
          },
          "metadata": {
            "tags": []
          },
          "execution_count": 79
        }
      ]
    },
    {
      "cell_type": "code",
      "metadata": {
        "colab": {
          "base_uri": "https://localhost:8080/"
        },
        "id": "c_4Dc91jHFwL",
        "outputId": "6800961b-be5b-4413-afd4-0d7f0938cba4"
      },
      "source": [
        "# Посмотрим как выглядит удержание для первого дня по группам\n",
        "\n",
        "df_b30.groupby('version').retention_1.mean()"
      ],
      "execution_count": null,
      "outputs": [
        {
          "output_type": "execute_result",
          "data": {
            "text/plain": [
              "version\n",
              "gate_30    0.797146\n",
              "gate_40    0.799161\n",
              "Name: retention_1, dtype: float64"
            ]
          },
          "metadata": {
            "tags": []
          },
          "execution_count": 80
        }
      ]
    },
    {
      "cell_type": "code",
      "metadata": {
        "colab": {
          "base_uri": "https://localhost:8080/",
          "height": 142
        },
        "id": "I8AjhN7YHqJd",
        "outputId": "6a58d676-16f7-435f-a565-c7558aca4312"
      },
      "source": [
        "alpha = 0.05                    # уровень значимости = 5%\n",
        "\n",
        "df_agg = df_b30.groupby('version').retention_1.agg(['sum', 'count', 'mean'])\n",
        "df_agg\n",
        "\n",
        "\n",
        "\n"
      ],
      "execution_count": null,
      "outputs": [
        {
          "output_type": "execute_result",
          "data": {
            "text/html": [
              "<div>\n",
              "<style scoped>\n",
              "    .dataframe tbody tr th:only-of-type {\n",
              "        vertical-align: middle;\n",
              "    }\n",
              "\n",
              "    .dataframe tbody tr th {\n",
              "        vertical-align: top;\n",
              "    }\n",
              "\n",
              "    .dataframe thead th {\n",
              "        text-align: right;\n",
              "    }\n",
              "</style>\n",
              "<table border=\"1\" class=\"dataframe\">\n",
              "  <thead>\n",
              "    <tr style=\"text-align: right;\">\n",
              "      <th></th>\n",
              "      <th>sum</th>\n",
              "      <th>count</th>\n",
              "      <th>mean</th>\n",
              "    </tr>\n",
              "    <tr>\n",
              "      <th>version</th>\n",
              "      <th></th>\n",
              "      <th></th>\n",
              "      <th></th>\n",
              "    </tr>\n",
              "  </thead>\n",
              "  <tbody>\n",
              "    <tr>\n",
              "      <th>gate_30</th>\n",
              "      <td>13518</td>\n",
              "      <td>16958</td>\n",
              "      <td>0.797146</td>\n",
              "    </tr>\n",
              "    <tr>\n",
              "      <th>gate_40</th>\n",
              "      <td>13525</td>\n",
              "      <td>16924</td>\n",
              "      <td>0.799161</td>\n",
              "    </tr>\n",
              "  </tbody>\n",
              "</table>\n",
              "</div>"
            ],
            "text/plain": [
              "           sum  count      mean\n",
              "version                        \n",
              "gate_30  13518  16958  0.797146\n",
              "gate_40  13525  16924  0.799161"
            ]
          },
          "metadata": {
            "tags": []
          },
          "execution_count": 81
        }
      ]
    },
    {
      "cell_type": "code",
      "metadata": {
        "colab": {
          "base_uri": "https://localhost:8080/"
        },
        "id": "sEhwatgtKfPj",
        "outputId": "950b2c95-16dc-4643-a931-cb48e0048497"
      },
      "source": [
        "n_obs = df_agg['count'].values  # размеры выборок\n",
        "n_obs"
      ],
      "execution_count": null,
      "outputs": [
        {
          "output_type": "execute_result",
          "data": {
            "text/plain": [
              "array([16958, 16924])"
            ]
          },
          "metadata": {
            "tags": []
          },
          "execution_count": 82
        }
      ]
    },
    {
      "cell_type": "code",
      "metadata": {
        "colab": {
          "base_uri": "https://localhost:8080/"
        },
        "id": "G_suwt1rKUkR",
        "outputId": "3c89d26f-5454-455a-f1a0-55f23f5496e0"
      },
      "source": [
        "m_obs = df_agg['sum'].values    # число успехов\n",
        "p_obs = df_agg['mean'].values   # доли\n",
        "\n",
        "z_obs, p_val =  proportions_ztest(m_obs, \n",
        "                                  n_obs, \n",
        "                                  value=0, \n",
        "                                  alternative='larger')\n",
        "\n",
        "print(f\"Наблюдаемое значение статистики: {z_obs:.3}\") \n",
        "print(f\"P-значение: {p_val:.3}\") "
      ],
      "execution_count": null,
      "outputs": [
        {
          "output_type": "stream",
          "text": [
            "Наблюдаемое значение статистики: -0.462\n",
            "P-значение: 0.678\n"
          ],
          "name": "stdout"
        }
      ]
    },
    {
      "cell_type": "markdown",
      "metadata": {
        "id": "_a4AIymoJGRJ"
      },
      "source": [
        "В данном случае, при исключении неактивных игроков, гипотеза о равенстве долей **не отвергается**."
      ]
    },
    {
      "cell_type": "code",
      "metadata": {
        "colab": {
          "base_uri": "https://localhost:8080/"
        },
        "id": "ewpXWogHJT72",
        "outputId": "94f2ade8-fad3-4b39-ad97-f8b313496f33"
      },
      "source": [
        "n_30, n_40 = n_obs  # размеры выборок\n",
        "p_30, p_40 = p_obs  # доли \n",
        "\n",
        "# дисперсии\n",
        "var_40, var_30 = p_40 * (1 - p_40), p_30 * (1 - p_30)\n",
        "\n",
        "# стандартизированный размер эффекта\n",
        "effect = (p_30 - p_40) / ((n_40* np.sqrt(var_40) + n_30 * np.sqrt(var_30)) / (n_40 + n_30))\n",
        "effect"
      ],
      "execution_count": null,
      "outputs": [
        {
          "output_type": "execute_result",
          "data": {
            "text/plain": [
              "-0.0050203788077364244"
            ]
          },
          "metadata": {
            "tags": []
          },
          "execution_count": 84
        }
      ]
    },
    {
      "cell_type": "code",
      "metadata": {
        "colab": {
          "base_uri": "https://localhost:8080/"
        },
        "id": "BO_wQpauLZ5j",
        "outputId": "76898aa7-1a15-4019-fa0b-f7de156c8e17"
      },
      "source": [
        "n_obs[1]/n_obs[0]"
      ],
      "execution_count": null,
      "outputs": [
        {
          "output_type": "execute_result",
          "data": {
            "text/plain": [
              "0.9979950465856823"
            ]
          },
          "metadata": {
            "tags": []
          },
          "execution_count": 85
        }
      ]
    },
    {
      "cell_type": "code",
      "metadata": {
        "colab": {
          "base_uri": "https://localhost:8080/"
        },
        "id": "on6OiY-HLeaD",
        "outputId": "681dcb7d-3e19-4ede-b564-4e95ac59d329"
      },
      "source": [
        "zt_ind_solve_power(effect_size=effect, \n",
        "                   nobs1=sum(n_obs), \n",
        "                   alpha=0.05, \n",
        "                   power=None, \n",
        "                   ratio=n_obs[1]/n_obs[0],\n",
        "                   alternative='larger')"
      ],
      "execution_count": null,
      "outputs": [
        {
          "output_type": "execute_result",
          "data": {
            "text/plain": [
              "0.010781858541311556"
            ]
          },
          "metadata": {
            "tags": []
          },
          "execution_count": 86
        }
      ]
    },
    {
      "cell_type": "markdown",
      "metadata": {
        "id": "YxaKxfMVMEyW"
      },
      "source": [
        "Получили очень низкое значение мощности 0,0107.\n",
        "\n",
        "Посчитаем какое должно быть количество наблюдении при мощности 0.80."
      ]
    },
    {
      "cell_type": "code",
      "metadata": {
        "colab": {
          "base_uri": "https://localhost:8080/"
        },
        "id": "eMrNNxUPMVNW",
        "outputId": "574284d7-d726-4254-dc71-666cae4390b6"
      },
      "source": [
        "sample_size_df = zt_ind_solve_power(effect_size=0.01188210610259806, \n",
        "                   nobs1=None, \n",
        "                   alpha=0.05, \n",
        "                   power=0.80, \n",
        "                   ratio=1,\n",
        "                   alternative='larger')\n",
        "\n",
        "print(sample_size_df/2)"
      ],
      "execution_count": null,
      "outputs": [
        {
          "output_type": "stream",
          "text": [
            "43790.64005982396\n"
          ],
          "name": "stdout"
        }
      ]
    },
    {
      "cell_type": "markdown",
      "metadata": {
        "id": "sEJ9d9wON4sO"
      },
      "source": [
        "После удаления неактивных пользователей наша выборка сократилась почти в три раза: \n",
        "\n",
        "*   get_30 с 44700 до 16958\n",
        "*   get_40 с 45489 до 16924\n",
        "\n",
        "Уменьшение количества наблюдения значительно снизило мощность. \n",
        "\n",
        "**Вывод:**  Чтобы подтвердить или опровергнуть гипотезу, учитывая неактивных пользователей, на уровне мощности 0,80 нам мало данных. \n",
        "\n",
        "**Рекомендации:** Нужно увеличить выборку так, чтобы после удаления неактивных юзеров выборка была не менее 43790 для каждой группы пользователей(get_30 и get_40)."
      ]
    }
  ]
}